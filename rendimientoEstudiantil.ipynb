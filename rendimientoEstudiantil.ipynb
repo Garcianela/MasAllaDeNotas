{
 "cells": [
  {
   "cell_type": "markdown",
   "id": "0bc62a65",
   "metadata": {},
   "source": [
    "# 1. Prepocesamiento de datos"
   ]
  },
  {
   "cell_type": "markdown",
   "id": "de0777cd",
   "metadata": {},
   "source": [
    "### 1.1 Importación de las librerías necesarias para la lectura del archivo CSV"
   ]
  },
  {
   "cell_type": "code",
   "execution_count": 19,
   "id": "0f80b8fd",
   "metadata": {},
   "outputs": [],
   "source": [
    "import pandas as pd\n",
    "df = pd.read_csv('xAPI-Edu-Data.csv')"
   ]
  },
  {
   "cell_type": "markdown",
   "id": "7c7a6e86",
   "metadata": {},
   "source": [
    "### 1.2 Actualización de los nombres de las columnas para mayor claridad"
   ]
  },
  {
   "cell_type": "code",
   "execution_count": 20,
   "id": "9b7ff125",
   "metadata": {},
   "outputs": [],
   "source": [
    "df.rename(columns={\n",
    "    'gender': 'genero',\n",
    "    'NationalITy': 'nacionalidad',\n",
    "    'PlaceofBirth': 'lugar_de_nacimiento',\n",
    "    'StageID': 'nivel_educativo',\n",
    "    'GradeID': 'grado',\n",
    "    'SectionID': 'seccion',\n",
    "    'Topic': 'cursos',\n",
    "    'Semester': 'semestre',\n",
    "    'Relation': 'relacion_con_el_estudiante',\n",
    "    'raisedhands': 'manosLevantadas',\n",
    "    'VisITedResources': 'recursosBuscados',\n",
    "    'AnnouncementsView': 'anuncios_vistos',\n",
    "    'Discussion': 'participacion',\n",
    "    'ParentAnsweringSurvey': 'padre_respondio_encuesta',\n",
    "    'ParentschoolSatisfaction': 'satisfaccion_padres_escuela',\n",
    "    'StudentAbsenceDays': 'diasAusentes',\n",
    "    'Class': 'desempeno'\n",
    "}, inplace=True)"
   ]
  },
  {
   "cell_type": "code",
   "execution_count": 21,
   "id": "bfc206c5",
   "metadata": {},
   "outputs": [
    {
     "data": {
      "text/plain": [
       "array(['M', 'L', 'H'], dtype=object)"
      ]
     },
     "execution_count": 21,
     "metadata": {},
     "output_type": "execute_result"
    }
   ],
   "source": [
    "df['desempeno'].unique()"
   ]
  },
  {
   "cell_type": "markdown",
   "id": "70efd4b9",
   "metadata": {},
   "source": [
    "### 1.3 Inicio el proceso de conversión de variables categóricas a binarias con el fin de implementar el modelo.\n",
    "\n",
    "| Variable                         | Codificación Binaria |\n",
    "|----------------------------------|------------------------|\n",
    "| **diasAusentes**             | Under-7 → 0 <br> Above-7 → 1 |\n",
    "| **genero**                       | F → 0 <br> M → 1 |\n",
    "| **desempeno**                    | M y H → 1 <br> L → 0 |\n",
    "\n",
    "#### Codificación de otras variables categóricas:\n",
    "- **cursos**:  \n",
    "`'Arabic'`: 0, `'Biology'`: 1, `'Chemistry'`: 2, `'English'`: 3, `'French'`: 4, `'Geology'`: 5, `'History'`: 6, `'IT'`: 7, `'Math'`: 8, `'Quran'`: 9, `'Science'`: 10, `'Spanish'`: 11"
   ]
  },
  {
   "cell_type": "code",
   "execution_count": 22,
   "id": "99dbe8e1",
   "metadata": {},
   "outputs": [],
   "source": [
    "df['diasAusentes'] = df['diasAusentes'].map({'Under-7': 0, 'Above-7': 1})\n",
    "\n",
    "\n",
    "df['genero'] = df['genero'].map({'F': 0, 'M': 1})"
   ]
  },
  {
   "cell_type": "markdown",
   "id": "6280b3b9",
   "metadata": {},
   "source": [
    "### 1.4 Generación de la columna desempeño basada"
   ]
  },
  {
   "cell_type": "code",
   "execution_count": 23,
   "id": "28dc8f2e",
   "metadata": {},
   "outputs": [],
   "source": [
    "df['desempeno'] = df['desempeno'].replace({'M': 1, 'H': 1, 'L': 0})"
   ]
  },
  {
   "cell_type": "markdown",
   "id": "b385e8d8",
   "metadata": {},
   "source": [
    "### 1.5 Conversión de tema a variable numerica, en nueva columna asignatura"
   ]
  },
  {
   "cell_type": "code",
   "execution_count": 24,
   "id": "8e1d1544",
   "metadata": {},
   "outputs": [
    {
     "name": "stdout",
     "output_type": "stream",
     "text": [
      "{'Arabic': 0, 'Biology': 1, 'Chemistry': 2, 'English': 3, 'French': 4, 'Geology': 5, 'History': 6, 'IT': 7, 'Math': 8, 'Quran': 9, 'Science': 10, 'Spanish': 11}\n"
     ]
    }
   ],
   "source": [
    "from sklearn.preprocessing import LabelEncoder\n",
    "\n",
    "le = LabelEncoder()\n",
    "df['cursos'] = le.fit_transform(df['cursos'])\n",
    "\n",
    "# Ver qué número se asignó a cada país\n",
    "asignacion2 = dict(zip(le.classes_, le.transform(le.classes_)))\n",
    "print(asignacion2)"
   ]
  },
  {
   "cell_type": "markdown",
   "id": "18e3785c",
   "metadata": {},
   "source": [
    "### 1.6 Normalización de variables para el modelo"
   ]
  },
  {
   "cell_type": "code",
   "execution_count": 25,
   "id": "2cf28217",
   "metadata": {},
   "outputs": [],
   "source": [
    "df['grado'] = df['grado'].str.replace('G-', '', regex=False)\n",
    "df['grado'] = df['grado'].astype('int64')"
   ]
  },
  {
   "cell_type": "markdown",
   "id": "0d76f560",
   "metadata": {},
   "source": [
    "### 1.7 Generación de la columna estudianteID como identificador único de cada estudiante"
   ]
  },
  {
   "cell_type": "code",
   "execution_count": 26,
   "id": "94079c2d",
   "metadata": {},
   "outputs": [],
   "source": [
    "df['estudiante_ID'] = list(range(1, len(df) + 1))\n",
    "\n",
    "columnas = ['estudiante_ID'] + [col for col in df.columns if col != 'estudiante_ID']\n",
    "df = df[columnas]"
   ]
  },
  {
   "cell_type": "code",
   "execution_count": 27,
   "id": "fd2f8019",
   "metadata": {},
   "outputs": [
    {
     "data": {
      "text/plain": [
       "Index(['estudiante_ID', 'genero', 'nacionalidad', 'lugar_de_nacimiento',\n",
       "       'nivel_educativo', 'grado', 'seccion', 'cursos', 'semestre',\n",
       "       'relacion_con_el_estudiante', 'manosLevantadas', 'recursosBuscados',\n",
       "       'anuncios_vistos', 'participacion', 'padre_respondio_encuesta',\n",
       "       'satisfaccion_padres_escuela', 'diasAusentes', 'desempeno'],\n",
       "      dtype='object')"
      ]
     },
     "execution_count": 27,
     "metadata": {},
     "output_type": "execute_result"
    }
   ],
   "source": [
    "df.columns"
   ]
  },
  {
   "cell_type": "markdown",
   "id": "b2cb1835",
   "metadata": {},
   "source": [
    "### 1.8 Eliminación de columna sin valor analítico para el modelo"
   ]
  },
  {
   "cell_type": "code",
   "execution_count": 28,
   "id": "64e746fc",
   "metadata": {},
   "outputs": [],
   "source": [
    "df.drop(columns=['lugar_de_nacimiento','nacionalidad','nivel_educativo', 'seccion', 'semestre', 'relacion_con_el_estudiante','anuncios_vistos','padre_respondio_encuesta', 'satisfaccion_padres_escuela'], inplace=True)"
   ]
  },
  {
   "cell_type": "code",
   "execution_count": 29,
   "id": "32b722fd",
   "metadata": {},
   "outputs": [
    {
     "data": {
      "text/plain": [
       "Index(['estudiante_ID', 'genero', 'grado', 'cursos', 'manosLevantadas',\n",
       "       'recursosBuscados', 'participacion', 'diasAusentes', 'desempeno'],\n",
       "      dtype='object')"
      ]
     },
     "execution_count": 29,
     "metadata": {},
     "output_type": "execute_result"
    }
   ],
   "source": [
    "df.columns"
   ]
  },
  {
   "cell_type": "markdown",
   "id": "41ddc2ee",
   "metadata": {},
   "source": [
    "# 2. Análisis exploratorio y visualización de variables clave"
   ]
  },
  {
   "cell_type": "markdown",
   "id": "04b4fb40",
   "metadata": {},
   "source": [
    "### 2.1 Resumen estadístico y estructura"
   ]
  },
  {
   "cell_type": "code",
   "execution_count": 30,
   "id": "267d1294",
   "metadata": {},
   "outputs": [
    {
     "name": "stdout",
     "output_type": "stream",
     "text": [
      "<class 'pandas.core.frame.DataFrame'>\n",
      "RangeIndex: 480 entries, 0 to 479\n",
      "Data columns (total 9 columns):\n",
      " #   Column            Non-Null Count  Dtype\n",
      "---  ------            --------------  -----\n",
      " 0   estudiante_ID     480 non-null    int64\n",
      " 1   genero            480 non-null    int64\n",
      " 2   grado             480 non-null    int64\n",
      " 3   cursos            480 non-null    int32\n",
      " 4   manosLevantadas   480 non-null    int64\n",
      " 5   recursosBuscados  480 non-null    int64\n",
      " 6   participacion     480 non-null    int64\n",
      " 7   diasAusentes      480 non-null    int64\n",
      " 8   desempeno         480 non-null    int64\n",
      "dtypes: int32(1), int64(8)\n",
      "memory usage: 32.0 KB\n"
     ]
    }
   ],
   "source": [
    "df.info()"
   ]
  },
  {
   "cell_type": "code",
   "execution_count": 31,
   "id": "a78d8a39",
   "metadata": {},
   "outputs": [
    {
     "data": {
      "text/html": [
       "<div>\n",
       "<style scoped>\n",
       "    .dataframe tbody tr th:only-of-type {\n",
       "        vertical-align: middle;\n",
       "    }\n",
       "\n",
       "    .dataframe tbody tr th {\n",
       "        vertical-align: top;\n",
       "    }\n",
       "\n",
       "    .dataframe thead th {\n",
       "        text-align: right;\n",
       "    }\n",
       "</style>\n",
       "<table border=\"1\" class=\"dataframe\">\n",
       "  <thead>\n",
       "    <tr style=\"text-align: right;\">\n",
       "      <th></th>\n",
       "      <th>estudiante_ID</th>\n",
       "      <th>genero</th>\n",
       "      <th>grado</th>\n",
       "      <th>cursos</th>\n",
       "      <th>manosLevantadas</th>\n",
       "      <th>recursosBuscados</th>\n",
       "      <th>participacion</th>\n",
       "      <th>diasAusentes</th>\n",
       "      <th>desempeno</th>\n",
       "    </tr>\n",
       "  </thead>\n",
       "  <tbody>\n",
       "    <tr>\n",
       "      <th>count</th>\n",
       "      <td>480.000000</td>\n",
       "      <td>480.000000</td>\n",
       "      <td>480.000000</td>\n",
       "      <td>480.000000</td>\n",
       "      <td>480.000000</td>\n",
       "      <td>480.000000</td>\n",
       "      <td>480.000000</td>\n",
       "      <td>480.000000</td>\n",
       "      <td>480.000000</td>\n",
       "    </tr>\n",
       "    <tr>\n",
       "      <th>mean</th>\n",
       "      <td>240.500000</td>\n",
       "      <td>0.635417</td>\n",
       "      <td>5.600000</td>\n",
       "      <td>5.256250</td>\n",
       "      <td>46.775000</td>\n",
       "      <td>54.797917</td>\n",
       "      <td>43.283333</td>\n",
       "      <td>0.397917</td>\n",
       "      <td>0.735417</td>\n",
       "    </tr>\n",
       "    <tr>\n",
       "      <th>std</th>\n",
       "      <td>138.708327</td>\n",
       "      <td>0.481815</td>\n",
       "      <td>2.840653</td>\n",
       "      <td>3.388388</td>\n",
       "      <td>30.779223</td>\n",
       "      <td>33.080007</td>\n",
       "      <td>27.637735</td>\n",
       "      <td>0.489979</td>\n",
       "      <td>0.441571</td>\n",
       "    </tr>\n",
       "    <tr>\n",
       "      <th>min</th>\n",
       "      <td>1.000000</td>\n",
       "      <td>0.000000</td>\n",
       "      <td>2.000000</td>\n",
       "      <td>0.000000</td>\n",
       "      <td>0.000000</td>\n",
       "      <td>0.000000</td>\n",
       "      <td>1.000000</td>\n",
       "      <td>0.000000</td>\n",
       "      <td>0.000000</td>\n",
       "    </tr>\n",
       "    <tr>\n",
       "      <th>25%</th>\n",
       "      <td>120.750000</td>\n",
       "      <td>0.000000</td>\n",
       "      <td>2.000000</td>\n",
       "      <td>3.000000</td>\n",
       "      <td>15.750000</td>\n",
       "      <td>20.000000</td>\n",
       "      <td>20.000000</td>\n",
       "      <td>0.000000</td>\n",
       "      <td>0.000000</td>\n",
       "    </tr>\n",
       "    <tr>\n",
       "      <th>50%</th>\n",
       "      <td>240.500000</td>\n",
       "      <td>1.000000</td>\n",
       "      <td>7.000000</td>\n",
       "      <td>5.000000</td>\n",
       "      <td>50.000000</td>\n",
       "      <td>65.000000</td>\n",
       "      <td>39.000000</td>\n",
       "      <td>0.000000</td>\n",
       "      <td>1.000000</td>\n",
       "    </tr>\n",
       "    <tr>\n",
       "      <th>75%</th>\n",
       "      <td>360.250000</td>\n",
       "      <td>1.000000</td>\n",
       "      <td>8.000000</td>\n",
       "      <td>7.000000</td>\n",
       "      <td>75.000000</td>\n",
       "      <td>84.000000</td>\n",
       "      <td>70.000000</td>\n",
       "      <td>1.000000</td>\n",
       "      <td>1.000000</td>\n",
       "    </tr>\n",
       "    <tr>\n",
       "      <th>max</th>\n",
       "      <td>480.000000</td>\n",
       "      <td>1.000000</td>\n",
       "      <td>12.000000</td>\n",
       "      <td>11.000000</td>\n",
       "      <td>100.000000</td>\n",
       "      <td>99.000000</td>\n",
       "      <td>99.000000</td>\n",
       "      <td>1.000000</td>\n",
       "      <td>1.000000</td>\n",
       "    </tr>\n",
       "  </tbody>\n",
       "</table>\n",
       "</div>"
      ],
      "text/plain": [
       "       estudiante_ID      genero       grado      cursos  manosLevantadas  \\\n",
       "count     480.000000  480.000000  480.000000  480.000000       480.000000   \n",
       "mean      240.500000    0.635417    5.600000    5.256250        46.775000   \n",
       "std       138.708327    0.481815    2.840653    3.388388        30.779223   \n",
       "min         1.000000    0.000000    2.000000    0.000000         0.000000   \n",
       "25%       120.750000    0.000000    2.000000    3.000000        15.750000   \n",
       "50%       240.500000    1.000000    7.000000    5.000000        50.000000   \n",
       "75%       360.250000    1.000000    8.000000    7.000000        75.000000   \n",
       "max       480.000000    1.000000   12.000000   11.000000       100.000000   \n",
       "\n",
       "       recursosBuscados  participacion  diasAusentes   desempeno  \n",
       "count        480.000000     480.000000    480.000000  480.000000  \n",
       "mean          54.797917      43.283333      0.397917    0.735417  \n",
       "std           33.080007      27.637735      0.489979    0.441571  \n",
       "min            0.000000       1.000000      0.000000    0.000000  \n",
       "25%           20.000000      20.000000      0.000000    0.000000  \n",
       "50%           65.000000      39.000000      0.000000    1.000000  \n",
       "75%           84.000000      70.000000      1.000000    1.000000  \n",
       "max           99.000000      99.000000      1.000000    1.000000  "
      ]
     },
     "execution_count": 31,
     "metadata": {},
     "output_type": "execute_result"
    }
   ],
   "source": [
    "df.describe()"
   ]
  },
  {
   "cell_type": "markdown",
   "id": "c3b581a0",
   "metadata": {},
   "source": [
    "Antes de entrenar el modelo, se realizó un análisis exploratorio con el objetivo de identificar patrones, correlaciones y posibles anomalías en los datos.\n",
    "\n",
    "### 2.2 Distribución de la Variable Objetivo"
   ]
  },
  {
   "cell_type": "code",
   "execution_count": 32,
   "id": "eaa2fa42",
   "metadata": {},
   "outputs": [
    {
     "data": {
      "image/png": "[encoded data removed]",
      "text/plain": [
       "<Figure size 640x480 with 1 Axes>"
      ]
     },
     "metadata": {},
     "output_type": "display_data"
    }
   ],
   "source": [
    "import seaborn as sns\n",
    "import matplotlib.pyplot as plt\n",
    "\n",
    "sns.countplot(x='desempeno', data=df)\n",
    "plt.title('Distribución de la variable objetivo')\n",
    "plt.xlabel('desempeno')\n",
    "plt.ylabel('Cantidad')\n",
    "plt.show()"
   ]
  },
  {
   "cell_type": "code",
   "execution_count": 33,
   "id": "8f681581",
   "metadata": {},
   "outputs": [
    {
     "data": {
      "text/plain": [
       "desempeno\n",
       "1    0.735417\n",
       "0    0.264583\n",
       "Name: proportion, dtype: float64"
      ]
     },
     "execution_count": 33,
     "metadata": {},
     "output_type": "execute_result"
    }
   ],
   "source": [
    "df['desempeno'].value_counts(normalize=True)"
   ]
  },
  {
   "cell_type": "code",
   "execution_count": 34,
   "id": "332abb28",
   "metadata": {},
   "outputs": [
    {
     "data": {
      "text/plain": [
       "Index(['estudiante_ID', 'genero', 'grado', 'cursos', 'manosLevantadas',\n",
       "       'recursosBuscados', 'participacion', 'diasAusentes', 'desempeno'],\n",
       "      dtype='object')"
      ]
     },
     "execution_count": 34,
     "metadata": {},
     "output_type": "execute_result"
    }
   ],
   "source": [
    "df.columns\n"
   ]
  },
  {
   "cell_type": "code",
   "execution_count": 35,
   "id": "826992ff",
   "metadata": {},
   "outputs": [],
   "source": [
    "df.to_csv(\"rendimientoEstudiantilOptimo.csv\", index=False)"
   ]
  },
  {
   "cell_type": "markdown",
   "id": "212417ca",
   "metadata": {},
   "source": [
    "## 3. Entrenamiento del modelo"
   ]
  },
  {
   "cell_type": "markdown",
   "id": "20b15c59",
   "metadata": {},
   "source": [
    "### 3.1 Selección de Variables y División de Datos\n",
    "\n",
    "Para construir el modelo de clasificación binaria que predice la variable objetivo riesgo_bajo_rendimiento, se seleccionaron las siguientes características independientes (features) como variables predictoras:"
   ]
  },
  {
   "cell_type": "code",
   "execution_count": 36,
   "id": "1838e65d",
   "metadata": {},
   "outputs": [
    {
     "name": "stdout",
     "output_type": "stream",
     "text": [
      "              precision    recall  f1-score   support\n",
      "\n",
      "           0       0.86      0.82      0.84        45\n",
      "           1       0.92      0.94      0.93        99\n",
      "\n",
      "    accuracy                           0.90       144\n",
      "   macro avg       0.89      0.88      0.89       144\n",
      "weighted avg       0.90      0.90      0.90       144\n",
      "\n"
     ]
    },
    {
     "data": {
      "text/plain": [
       "['encoder_asignatura.pkl']"
      ]
     },
     "execution_count": 36,
     "metadata": {},
     "output_type": "execute_result"
    }
   ],
   "source": [
    "import pandas as pd\n",
    "from sklearn.preprocessing import LabelEncoder\n",
    "from sklearn.ensemble import RandomForestClassifier\n",
    "from sklearn.model_selection import train_test_split\n",
    "from sklearn.metrics import classification_report\n",
    "import joblib\n",
    "\n",
    "# Cargar datos\n",
    "df = pd.read_csv('rendimientoEstudiantilOptimo.csv')  # Reemplaza con tu archivo real\n",
    "\n",
    "# Codificadores\n",
    "le_genero = LabelEncoder()\n",
    "le_grado = LabelEncoder()\n",
    "le_asignatura = LabelEncoder()\n",
    "\n",
    "df['genero'] = le_genero.fit_transform(df['genero'])\n",
    "df['grado'] = le_grado.fit_transform(df['grado'])\n",
    "df['cursos'] = le_asignatura.fit_transform(df['cursos'])\n",
    "\n",
    "# Separar features y target\n",
    "X = df.drop(['desempeno', 'estudiante_ID'], axis=1)\n",
    "y = df['desempeno']\n",
    "\n",
    "# Dividir datos\n",
    "X_train, X_test, y_train, y_test = train_test_split(X, y, test_size=0.3, random_state=42)\n",
    "\n",
    "# Crear modelo\n",
    "modeloRandomForest= RandomForestClassifier(class_weight='balanced', random_state=42)\n",
    "modeloRandomForest.fit(X_train, y_train)\n",
    "\n",
    "# Evaluar\n",
    "y_pred = modeloRandomForest.predict(X_test)\n",
    "print(classification_report(y_test, y_pred))\n",
    "\n",
    "# Guardar modelo y encoders\n",
    "joblib.dump(modeloRandomForest, 'modelo_estudiante.pkl')\n",
    "joblib.dump(le_genero, 'encoder_genero.pkl')\n",
    "joblib.dump(le_grado, 'encoder_grado.pkl')\n",
    "joblib.dump(le_asignatura, 'encoder_asignatura.pkl')"
   ]
  },
  {
   "cell_type": "code",
   "execution_count": 37,
   "id": "072fc22b",
   "metadata": {},
   "outputs": [],
   "source": [
    "from sklearn.preprocessing import LabelEncoder\n",
    "\n",
    "# Codificadores (usa los mismos que en el entrenamiento)\n",
    "le_genero = LabelEncoder()\n",
    "le_grado = LabelEncoder()\n",
    "le_asignatura = LabelEncoder()\n",
    "\n",
    "# Fit con los datos completos\n",
    "le_genero.fit(df['genero'])\n",
    "le_grado.fit(df['grado'])\n",
    "le_asignatura.fit(df['cursos'])\n",
    "\n",
    "# Codifica X_test (solo esas columnas)\n",
    "X_test['genero'] = le_genero.transform(X_test['genero'])\n",
    "X_test['grado'] = le_grado.transform(X_test['grado'])\n",
    "X_test['cursos'] = le_asignatura.transform(X_test['cursos'])"
   ]
  },
  {
   "cell_type": "code",
   "execution_count": 38,
   "id": "1e76cf97",
   "metadata": {},
   "outputs": [
    {
     "data": {
      "image/png": "[encoded data removed]",
      "text/plain": [
       "<Figure size 640x480 with 2 Axes>"
      ]
     },
     "metadata": {},
     "output_type": "display_data"
    }
   ],
   "source": [
    "from sklearn.metrics import ConfusionMatrixDisplay\n",
    "import matplotlib.pyplot as plt\n",
    "\n",
    "ConfusionMatrixDisplay.from_estimator(modeloRandomForest, X_test, y_test, cmap='Blues')\n",
    "plt.title(\"Matriz de Confusión - Random Forest\")\n",
    "plt.show()"
   ]
  },
  {
   "cell_type": "markdown",
   "id": "4072ceda",
   "metadata": {},
   "source": [
    "Interpretación de resultados:\n",
    "\n",
    "- Precision y recall de clase 1 (riesgo de bajo rendimiento) son muy buenos (≈ 0.89), lo cual indica que el modelo identifica correctamente a la mayoría de los estudiantes en riesgo y no genera muchos falsos positivos.\n",
    "\n",
    "- El F1-score general (0.93) y el promedio macro (0.92) muestran que el modelo está equilibrado para ambas clases.\n",
    "\n",
    "- El desbalance se está manejando adecuadamente sin necesidad de hacer oversampling por ahora."
   ]
  },
  {
   "cell_type": "code",
   "execution_count": 39,
   "id": "47d0882c",
   "metadata": {},
   "outputs": [],
   "source": [
    "X = df[['genero', 'grado', 'cursos', 'manosLevantadas',\n",
    "        'recursosBuscados', 'diasAusentes']]\n",
    "y = df['desempeno']"
   ]
  },
  {
   "cell_type": "markdown",
   "id": "cc78415e",
   "metadata": {},
   "source": [
    "### 3.2 Comparación con el modelo SMOTE"
   ]
  },
  {
   "cell_type": "code",
   "execution_count": 40,
   "id": "2da5776e",
   "metadata": {},
   "outputs": [
    {
     "name": "stdout",
     "output_type": "stream",
     "text": [
      "              precision    recall  f1-score   support\n",
      "\n",
      "           0       0.81      0.87      0.84        45\n",
      "           1       0.94      0.91      0.92        99\n",
      "\n",
      "    accuracy                           0.90       144\n",
      "   macro avg       0.88      0.89      0.88       144\n",
      "weighted avg       0.90      0.90      0.90       144\n",
      "\n"
     ]
    }
   ],
   "source": [
    "from imblearn.over_sampling import SMOTE\n",
    "from sklearn.ensemble import RandomForestClassifier\n",
    "from sklearn.metrics import classification_report\n",
    "\n",
    "# Aplicar sobremuestreo SMOTE solo a los datos de entrenamiento\n",
    "sm = SMOTE(random_state=42)\n",
    "X_res, y_res = sm.fit_resample(X_train, y_train)\n",
    "\n",
    "# Entrenar el modelo con los datos balanceados\n",
    "modelo = RandomForestClassifier(random_state=42)\n",
    "modelo.fit(X_res, y_res)\n",
    "\n",
    "# Predecir sobre el conjunto de prueba (sin SMOTE)\n",
    "y_pred = modelo.predict(X_test)\n",
    "\n",
    "# Mostrar métricas del desempeño del modelo\n",
    "print(classification_report(y_test, y_pred))\n"
   ]
  }
 ],
 "metadata": {
  "kernelspec": {
   "display_name": "Python 3",
   "language": "python",
   "name": "python3"
  },
  "language_info": {
   "codemirror_mode": {
    "name": "ipython",
    "version": 3
   },
   "file_extension": ".py",
   "mimetype": "text/x-python",
   "name": "python",
   "nbconvert_exporter": "python",
   "pygments_lexer": "ipython3",
   "version": "3.11.4"
  }
 },
 "nbformat": 4,
 "nbformat_minor": 5
}
